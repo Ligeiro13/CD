{
 "cells": [
  {
   "cell_type": "markdown",
   "metadata": {},
   "source": [
    "# Ciência Dos Dados - Projeto 1\n",
    "\n",
    "\n",
    "#### Gabriel Ligeiro - Turma 2A\n",
    "\n",
    "\n",
    "## PERGUNTA: Como a renda per capta influência no acesso a Internet doméstica e a TV nas áreas rurais e urbanas no Brasil entre os anos de 2013 e 2015?\n",
    "\n",
    " ### Introdução: Compreender  \n",
    "\n"
   ]
  },
  {
   "cell_type": "markdown",
   "metadata": {},
   "source": [
    "# DOM 2015"
   ]
  },
  {
   "cell_type": "code",
   "execution_count": 54,
   "metadata": {},
   "outputs": [
    {
     "data": {
      "text/html": [
       "<div>\n",
       "<style>\n",
       "    .dataframe thead tr:only-child th {\n",
       "        text-align: right;\n",
       "    }\n",
       "\n",
       "    .dataframe thead th {\n",
       "        text-align: left;\n",
       "    }\n",
       "\n",
       "    .dataframe tbody tr th {\n",
       "        vertical-align: top;\n",
       "    }\n",
       "</style>\n",
       "<table border=\"1\" class=\"dataframe\">\n",
       "  <thead>\n",
       "    <tr style=\"text-align: right;\">\n",
       "      <th></th>\n",
       "      <th>Nº</th>\n",
       "      <th>UF</th>\n",
       "      <th>PB</th>\n",
       "      <th>COR</th>\n",
       "      <th>Internet</th>\n",
       "      <th>RendaperCap</th>\n",
       "      <th>Area</th>\n",
       "      <th>Area_Nova</th>\n",
       "      <th>TV</th>\n",
       "      <th>Classe</th>\n",
       "    </tr>\n",
       "  </thead>\n",
       "  <tbody>\n",
       "    <tr>\n",
       "      <th>2</th>\n",
       "      <td>2</td>\n",
       "      <td>Rondonia</td>\n",
       "      <td>Não</td>\n",
       "      <td>Sim</td>\n",
       "      <td>Sim</td>\n",
       "      <td>1150.0</td>\n",
       "      <td>Urbana1</td>\n",
       "      <td>Urbana</td>\n",
       "      <td>Sim</td>\n",
       "      <td>E</td>\n",
       "    </tr>\n",
       "    <tr>\n",
       "      <th>4</th>\n",
       "      <td>4</td>\n",
       "      <td>Rondonia</td>\n",
       "      <td>Não</td>\n",
       "      <td>Sim</td>\n",
       "      <td>Não</td>\n",
       "      <td>2900.0</td>\n",
       "      <td>Urbana1</td>\n",
       "      <td>Urbana</td>\n",
       "      <td>Sim</td>\n",
       "      <td>D</td>\n",
       "    </tr>\n",
       "    <tr>\n",
       "      <th>72</th>\n",
       "      <td>72</td>\n",
       "      <td>Rondonia</td>\n",
       "      <td>Não</td>\n",
       "      <td>Sim</td>\n",
       "      <td>Sim</td>\n",
       "      <td>590.0</td>\n",
       "      <td>Urbana1</td>\n",
       "      <td>Urbana</td>\n",
       "      <td>Sim</td>\n",
       "      <td>E</td>\n",
       "    </tr>\n",
       "    <tr>\n",
       "      <th>75</th>\n",
       "      <td>75</td>\n",
       "      <td>Rondonia</td>\n",
       "      <td>Sim</td>\n",
       "      <td>Sim</td>\n",
       "      <td>Não</td>\n",
       "      <td>1260.0</td>\n",
       "      <td>Urbana1</td>\n",
       "      <td>Urbana</td>\n",
       "      <td>Sim</td>\n",
       "      <td>E</td>\n",
       "    </tr>\n",
       "    <tr>\n",
       "      <th>83</th>\n",
       "      <td>83</td>\n",
       "      <td>Rondonia</td>\n",
       "      <td>Não</td>\n",
       "      <td>Sim</td>\n",
       "      <td>Não</td>\n",
       "      <td>863.0</td>\n",
       "      <td>Urbana1</td>\n",
       "      <td>Urbana</td>\n",
       "      <td>Sim</td>\n",
       "      <td>E</td>\n",
       "    </tr>\n",
       "  </tbody>\n",
       "</table>\n",
       "</div>"
      ],
      "text/plain": [
       "    Nº        UF   PB  COR Internet  RendaperCap     Area Area_Nova   TV  \\\n",
       "2    2  Rondonia  Não  Sim      Sim       1150.0  Urbana1    Urbana  Sim   \n",
       "4    4  Rondonia  Não  Sim      Não       2900.0  Urbana1    Urbana  Sim   \n",
       "72  72  Rondonia  Não  Sim      Sim        590.0  Urbana1    Urbana  Sim   \n",
       "75  75  Rondonia  Sim  Sim      Não       1260.0  Urbana1    Urbana  Sim   \n",
       "83  83  Rondonia  Não  Sim      Não        863.0  Urbana1    Urbana  Sim   \n",
       "\n",
       "   Classe  \n",
       "2       E  \n",
       "4       D  \n",
       "72      E  \n",
       "75      E  \n",
       "83      E  "
      ]
     },
     "execution_count": 54,
     "metadata": {},
     "output_type": "execute_result"
    }
   ],
   "source": [
    "%matplotlib inline\n",
    "import pandas as pd\n",
    "import matplotlib.pyplot as plt\n",
    "import math\n",
    "import os\n",
    "\n",
    "\n",
    "novo_dados = pd.read_csv(\"resumo2015.csv\", sep= ',')\n",
    "#tirando os null \n",
    "novo_dados = novo_dados[pd.notnull(novo_dados.UF)&pd.notnull(novo_dados.V0227)]\n",
    "#criando o DataFrame\n",
    "novo_dados = pd.DataFrame(novo_dados)\n",
    "#mudando os nomes das colunas\n",
    "novo_dados.columns = [\"Nº\",\"UF\", \"PB\",\"COR\",\"Internet\",\"RendaperCap\", \"Area\"]\n",
    "#Criando Categorias\n",
    "novo_dados.UF = novo_dados.UF.astype('category')\n",
    "novo_dados.PB = novo_dados.PB.astype('category')\n",
    "novo_dados.COR = novo_dados.COR.astype('category')\n",
    "novo_dados.Internet = novo_dados.Internet.astype('category')\n",
    "novo_dados.Area = novo_dados.Area.astype('category')\n",
    "novo_dados.RendaperCap = novo_dados.RendaperCap.astype('float')\n",
    "#tirar o valor absurdo de 99999999 da renda per cap\n",
    "novo_dados = novo_dados[novo_dados.RendaperCap != 999999999999]\n",
    "\n",
    "#mudando rotulos categoricos\n",
    "novo_dados.UF.cat.categories = (\"Rondonia\",\"Acre\",\"Amazonas\",\"Roraima\", \\\n",
    "\"Pará\",\"Amapá\", \"Tocantins\", \"Maranhão\", \"Piauí\", \"Ceará\",\"Rio Grande do Norte\",\"Paraíba\", \\\n",
    "\"Pernambuco\",\"Alagoas\",\"Sergipe\",\"Bahia\",\"Minas Gerais\",\"Espírito Santo\",\"Rio de Janeiro\",\\\n",
    "\"São Paulo\",\"Paraná\",\"Santa Catarina\",\"Rio Grande do Sul\",\"Mato Grosso do Sul\",\"Mato Grosso\",\"Goiás\",\"Distrito Federal\")\n",
    "novo_dados.PB.cat.categories = (\"Sim\",\"Não\")\n",
    "novo_dados.COR.cat.categories = (\"Sim\")\n",
    "novo_dados.Internet.cat.categories = (\"Sim\", \"Não\")\n",
    "novo_dados.Area.cat.categories = [\"Urbana1\",\"Urbana2\",\"Urbana3\",\"Rural1\",\"Rural2\",\"Rural3\",\"Rural4\",\"Rural5\"]\n",
    "\n",
    "#criando nova coluna de Area\n",
    "\n",
    "novo_dados.loc[(novo_dados.Area == \"Urbana1\") | (novo_dados.Area == \"Urbana2\")| \\\n",
    "(novo_dados.Area == \"Urbana3\"), \"Area_Nova\"] = \"Urbana\" \n",
    "novo_dados.loc[(novo_dados.Area == \"Rural1\") | (novo_dados.Area == \"Rural2\")| \\\n",
    "(novo_dados.Area == \"Rural3\")| (novo_dados.Area == \"Rural4\")| (novo_dados.Area == \"Rural5\"), \"Area_Nova\"] = \"Rural\" \n",
    "\n",
    "\n",
    "#criando nova coluna de TV\n",
    "novo_dados.loc[(novo_dados.PB == \"Sim\"), \"TV\"] = \"Sim\"\n",
    "novo_dados.loc[(novo_dados.PB == \"Não\"), \"TV\"] = \"Não\"\n",
    "novo_dados.loc[(novo_dados.COR == \"Sim\"), \"TV\"] = \"Sim\"\n",
    "novo_dados.loc[(novo_dados.COR == \"Não\"), \"TV\"] = \"Não\"\n",
    "#criando nova coluna de TV\n",
    "\"\"\"\n",
    "Classes Sociais segundo IBGE\n",
    "A --  > 20 SM\n",
    "B -- 10 a 20 SM\n",
    "C -- 4 a 10 \n",
    "D -- 2 a 4 SM\n",
    "E -- < 2SM\n",
    "\n",
    "\"\"\"\n",
    "sm = 788\n",
    "novo_dados.loc[(novo_dados.RendaperCap < 2*sm ), \"Classe\"] = \"E\"\n",
    "novo_dados.loc[(novo_dados.RendaperCap > 2*sm) & (novo_dados.RendaperCap < 4*sm), \"Classe\"] = \"D\"\n",
    "novo_dados.loc[(novo_dados.RendaperCap > 4*sm) & (novo_dados.RendaperCap < 10*sm), \"Classe\"] = \"C\"\n",
    "novo_dados.loc[(novo_dados.RendaperCap > 10*sm) & (novo_dados.RendaperCap < 20*sm), \"Classe\"] = \"B\"\n",
    "novo_dados.loc[(novo_dados.RendaperCap > 20*sm), \"Classe\"] = \"A\"\n",
    "\n",
    "#FAIXAS\n",
    "faixa1 = range(0,5000,25)\n",
    "faixa = [0,sm*2,4*sm,10*sm,20*sm]\n",
    "#criando renda area urbana\n",
    "rendaU = novo_dados.RendaperCap[novo_dados.Area_Nova == \"Urbana\"]\n",
    "#criando renda area rural\n",
    "rendaR = novo_dados.RendaperCap[novo_dados.Area_Nova == \"Rural\"]\n",
    "#dividindo a area urbana em classes sociais \n",
    "rendaUfaixa = pd.cut(rendaU, faixa, False)\n",
    "#dividindo a area rural em classes sociais \n",
    "rendaRfaixa = pd.cut(rendaR, faixa, False)\n",
    "\n",
    "novo_dados.head()"
   ]
  },
  {
   "cell_type": "markdown",
   "metadata": {},
   "source": [
    "\n",
    "# DOM 2014"
   ]
  },
  {
   "cell_type": "markdown",
   "metadata": {},
   "source": [
    "# DOM 2013"
   ]
  },
  {
   "cell_type": "code",
   "execution_count": 77,
   "metadata": {},
   "outputs": [
    {
     "data": {
      "text/plain": [
       "<matplotlib.text.Text at 0x115bcf4e0>"
      ]
     },
     "execution_count": 77,
     "metadata": {},
     "output_type": "execute_result"
    },
    {
     "data": {
      "image/png": "[encoded data removed]",
      "text/plain": [
       "<matplotlib.figure.Figure at 0x115b98a58>"
      ]
     },
     "metadata": {},
     "output_type": "display_data"
    }
   ],
   "source": [
    "# grafico qualitativo renda urbana\n",
    "\n",
    "grendaurbana = pd.crosstab(novo_dados.Classe,novo_dados.Area_Nova, normalize = True)*100\n",
    "plot = grendaurbana.plot(kind=\"bar\", figsize = (12,8), title = \"Distribuiçao Renda Urbana/Rural 2015\")\n",
    "\n",
    "plt.ylabel('Frequência Relativa (em %)')\n",
    "plt.xlabel('Classe Social')\n",
    "\n"
   ]
  },
  {
   "cell_type": "code",
   "execution_count": 46,
   "metadata": {
    "scrolled": true
   },
   "outputs": [
    {
     "data": {
      "text/plain": [
       "<matplotlib.axes._subplots.AxesSubplot at 0x1128efc50>"
      ]
     },
     "execution_count": 46,
     "metadata": {},
     "output_type": "execute_result"
    },
    {
     "data": {
      "image/png": "[encoded data removed]",
      "text/plain": [
       "<matplotlib.figure.Figure at 0x112663048>"
      ]
     },
     "metadata": {},
     "output_type": "display_data"
    }
   ],
   "source": [
    "u = novo_dados.Area_Nova.value_counts(True)\n",
    "u = u * 100\n",
    "u.plot(kind='pie', colors=('blue', 'red'), title=\"Distribuiçao entre Areas 2015\", autopct=\"%0.2f\",legend=True)\n",
    "\n"
   ]
  },
  {
   "cell_type": "code",
   "execution_count": 101,
   "metadata": {
    "scrolled": true
   },
   "outputs": [
    {
     "data": {
      "image/png": "[encoded data removed]",
      "text/plain": [
       "<matplotlib.figure.Figure at 0x117522b70>"
      ]
     },
     "metadata": {},
     "output_type": "display_data"
    }
   ],
   "source": [
    "classe_int = pd.crosstab(novo_dados.Classe,novo_dados.Internet, normalize = \"index\",margins = True,rownames = ['Classe Social'],colnames = ['Acesso a Internet'])*100\n",
    "plot = classe_int.iloc[:-1,:].plot(kind=\"bar\",stacked = True)\n",
    "plt.ylabel('Frequência Relativa (em %)')\n",
    "plot\n",
    "#classe_int\n",
    "\n",
    "urbana = novo_dados.Area_Nova==\"urbana\" \n"
   ]
  },
  {
   "cell_type": "code",
   "execution_count": 48,
   "metadata": {
    "collapsed": true
   },
   "outputs": [],
   "source": [
    "#plot = rendaU.plot.hist(bins=faixa1, normed=True,figsize = (12,6),title = \"Distribuiçao Renda Urbana\")\n",
    "\n",
    "\n"
   ]
  },
  {
   "cell_type": "code",
   "execution_count": 83,
   "metadata": {},
   "outputs": [
    {
     "data": {
      "text/plain": [
       "<matplotlib.legend.Legend at 0x114f4f2b0>"
      ]
     },
     "execution_count": 83,
     "metadata": {},
     "output_type": "execute_result"
    },
    {
     "data": {
      "image/png": "[encoded data removed]",
      "text/plain": [
       "<matplotlib.figure.Figure at 0x1166e38d0>"
      ]
     },
     "metadata": {},
     "output_type": "display_data"
    },
    {
     "data": {
      "image/png": "[encoded data removed]",
      "text/plain": [
       "<matplotlib.figure.Figure at 0x1168d8710>"
      ]
     },
     "metadata": {},
     "output_type": "display_data"
    }
   ],
   "source": [
    "ct1 = pd.crosstab(novo_dados.Internet, novo_dados.Area_Nova, normalize = \"index\")\n",
    "ct1 = (ct1/ct1.sum().sum()*100).round(decimals=0)\n",
    "ct1.plot(kind=\"bar\", title = \"Acesso Internet Doméstica\")\n",
    "plt.ylabel('Frequência Relativa (em %)')\n",
    "\n",
    "plot = ct1.T.plot(kind='bar', stacked=True,title='Acesso Internet Doméstica')\n",
    "#plot.set_ylim([0, 100])\n",
    "plt.ylabel('Freq.Relativa (em %)')\n",
    "#Para legenda ficar fora do gráfico\n",
    "ax = plt.subplot(111)\n",
    "box = ax.get_position()\n",
    "ax.set_position([box.x0, box.y0, box.width * 0.8, box.height])\n",
    "ax.legend(loc='center left', bbox_to_anchor=(1, 0.5))"
   ]
  },
  {
   "cell_type": "code",
   "execution_count": 50,
   "metadata": {},
   "outputs": [
    {
     "data": {
      "text/plain": [
       "<matplotlib.axes._subplots.AxesSubplot at 0x112464668>"
      ]
     },
     "execution_count": 50,
     "metadata": {},
     "output_type": "execute_result"
    },
    {
     "data": {
      "image/png": "[encoded data removed]",
      "text/plain": [
       "<matplotlib.figure.Figure at 0x112550d30>"
      ]
     },
     "metadata": {},
     "output_type": "display_data"
    }
   ],
   "source": [
    "ct2 = novo_dados.Area_Nova[novo_dados.Internet == \"Sim\"].value_counts()\n",
    "ct2.plot(kind='pie', title = \"Acesso a Internet Doméstica\", autopct=\"%.2f\",legend=True)\n",
    "\n",
    "\n"
   ]
  },
  {
   "cell_type": "code",
   "execution_count": 67,
   "metadata": {},
   "outputs": [
    {
     "data": {
      "text/plain": [
       "<matplotlib.axes._subplots.AxesSubplot at 0x114814d30>"
      ]
     },
     "execution_count": 67,
     "metadata": {},
     "output_type": "execute_result"
    },
    {
     "data": {
      "image/png": "[encoded data removed]",
      "text/plain": [
       "<matplotlib.figure.Figure at 0x11485c9b0>"
      ]
     },
     "metadata": {},
     "output_type": "display_data"
    }
   ],
   "source": [
    "ct3 = novo_dados.Area_Nova[novo_dados.Internet == \"Não\"].value_counts()\n",
    "ct3.plot(kind='pie', title = \"Sem acesso a Internet Doméstica\", autopct=\"%.2f\",legend=True)\n"
   ]
  },
  {
   "cell_type": "code",
   "execution_count": 52,
   "metadata": {},
   "outputs": [
    {
     "data": {
      "text/plain": [
       "<matplotlib.axes._subplots.AxesSubplot at 0x10ecaf0f0>"
      ]
     },
     "execution_count": 52,
     "metadata": {},
     "output_type": "execute_result"
    },
    {
     "data": {
      "image/png": "[encoded data removed]",
      "text/plain": [
       "<matplotlib.figure.Figure at 0x10ecbd400>"
      ]
     },
     "metadata": {},
     "output_type": "display_data"
    }
   ],
   "source": [
    "ct4 = novo_dados.Area_Nova[novo_dados.TV == \"Sim\"].value_counts()\n",
    "ct4.plot(kind='pie', title = \"Acesso a TV\", autopct=\"%.2f\",legend=True)"
   ]
  },
  {
   "cell_type": "code",
   "execution_count": 53,
   "metadata": {},
   "outputs": [
    {
     "data": {
      "text/plain": [
       "Sim    3666\n",
       "Name: TV, dtype: int64"
      ]
     },
     "execution_count": 53,
     "metadata": {},
     "output_type": "execute_result"
    }
   ],
   "source": [
    "#ct5 = novo_dados.Area_Nova[novo_dados.TV == \"Não\"].value_counts()\n",
    "#ct5.plot(kind='pie', title = \"Não acesso a TV\", autopct=\"%.2f\",legend=True)\n",
    "novo_dados.TV.value_counts()"
   ]
  },
  {
   "cell_type": "code",
   "execution_count": null,
   "metadata": {
    "collapsed": true
   },
   "outputs": [],
   "source": []
  },
  {
   "cell_type": "code",
   "execution_count": 45,
   "metadata": {
    "collapsed": true
   },
   "outputs": [],
   "source": [
    "\n",
    "novo_dados2 = pd.read_csv(\"resumo2013.csv\", sep= ',')\n",
    "#tirando os null \n",
    "novo_dados2 = novo_dados2[pd.notnull(novo_dados2.UF)&pd.notnull(novo_dados2.V0227)]\n",
    "#criando o DataFrame\n",
    "novo_dados2 = pd.DataFrame(novo_dados2)\n",
    "#mudando os nomes das colunas\n",
    "novo_dados2.columns = [\"Nº\",\"UF\", \"PB\",\"COR\",\"Internet\",\"RendaperCap\", \"Area\"]\n",
    "#Criando Categorias\n",
    "novo_dados2.UF = novo_dados2.UF.astype('category')\n",
    "novo_dados2.PB = novo_dados2.PB.astype('category')\n",
    "novo_dados2.COR = novo_dados2.COR.astype('category')\n",
    "novo_dados2.Internet = novo_dados2.Internet.astype('category')\n",
    "novo_dados2.Area = novo_dados2.Area.astype('category')\n",
    "novo_dados2.RendaperCap = novo_dados2.RendaperCap.astype('float')\n",
    "#tirar o valor absurdo de 99999999 da renda per cap\n",
    "novo_dados2 = novo_dados2[novo_dados2.RendaperCap != 999999999999]\n",
    "\n",
    "#mudando rotulos categoricos\n",
    "novo_dados2.UF.cat.categories = (\"Rondonia\",\"Acre\",\"Amazonas\",\"Roraima\", \\\n",
    "\"Pará\",\"Amapá\", \"Tocantins\", \"Maranhão\", \"Piauí\", \"Ceará\",\"Rio Grande do Norte\",\"Paraíba\", \\\n",
    "\"Pernambuco\",\"Alagoas\",\"Sergipe\",\"Bahia\",\"Minas Gerais\",\"Espírito Santo\",\"Rio de Janeiro\",\\\n",
    "\"São Paulo\",\"Paraná\",\"Santa Catarina\",\"Rio Grande do Sul\",\"Mato Grosso do Sul\",\"Mato Grosso\",\"Goiás\",\"Distrito Federal\")\n",
    "novo_dados2.PB.cat.categories = (\"Sim\",\"Não\")\n",
    "novo_dados2.COR.cat.categories = (\"Sim\")\n",
    "novo_dados2.Internet.cat.categories = (\"Sim\", \"Não\")\n",
    "novo_dados2.Area.cat.categories = [\"Urbana1\",\"Urbana2\",\"Urbana3\",\"Rural1\",\"Rural2\",\"Rural3\",\"Rural4\",\"Rural5\"]\n",
    "\n",
    "#criando nova coluna de Area\n",
    "\n",
    "novo_dados2.loc[(novo_dados2.Area == \"Urbana1\") | (novo_dados2.Area == \"Urbana2\")| \\\n",
    "(novo_dados2.Area == \"Urbana3\"), \"Area_Nova\"] = \"Urbana\" \n",
    "novo_dados2.loc[(novo_dados2.Area == \"Rural1\") | (novo_dados2.Area == \"Rural2\")| \\\n",
    "(novo_dados2.Area == \"Rural3\")| (novo_dados2.Area == \"Rural4\")| (novo_dados2.Area == \"Rural5\"), \"Area_Nova\"] = \"Rural\" \n",
    "\n",
    "\n",
    "#criando nova coluna de TV\n",
    "novo_dados2.loc[(novo_dados2.PB == \"Sim\"), \"TV\"] = \"Sim\"\n",
    "novo_dados2.loc[(novo_dados2.PB == \"Não\"), \"TV\"] = \"Não\"\n",
    "novo_dados2.loc[(novo_dados2.COR == \"Sim\"), \"TV\"] = \"Sim\"\n",
    "novo_dados2.loc[(novo_dados2.COR == \"Não\"), \"TV\"] = \"Não\"\n",
    "#criando nova coluna de TV\n",
    "\"\"\"\n",
    "Classes Sociais segundo IBGE\n",
    "A --  > 20 SM\n",
    "B -- 10 a 20 SM\n",
    "C -- 4 a 10 \n",
    "D -- 2 a 4 SM\n",
    "E -- < 2SM\n",
    "\n",
    "\"\"\"\n",
    "sm = 678\n",
    "novo_dados2.loc[(novo_dados2.RendaperCap < 2*sm ), \"Classe\"] = \"E\"\n",
    "novo_dados2.loc[(novo_dados2.RendaperCap > 2*sm) & (novo_dados2.RendaperCap < 4*sm), \"Classe\"] = \"D\"\n",
    "novo_dados2.loc[(novo_dados2.RendaperCap > 4*sm) & (novo_dados2.RendaperCap < 10*sm), \"Classe\"] = \"C\"\n",
    "novo_dados2.loc[(novo_dados2.RendaperCap > 10*sm) & (novo_dados2.RendaperCap < 20*sm), \"Classe\"] = \"B\"\n",
    "novo_dados2.loc[(novo_dados2.RendaperCap > 20*sm), \"Classe\"] = \"A\"\n",
    "\n",
    "#FAIXAS\n",
    "faixa1 = range(0,5000,25)\n",
    "faixa = [0,sm*2,4*sm,10*sm,20*sm]\n",
    "#criando renda area urbana\n",
    "rendaU = novo_dados2.RendaperCap[novo_dados2.Area_Nova == \"Urbana\"]\n",
    "#criando renda area rural\n",
    "rendaR = novo_dados2.RendaperCap[novo_dados2.Area_Nova == \"Rural\"]\n",
    "#dividindo a area urbana em classes sociais \n",
    "rendaUfaixa = pd.cut(rendaU, faixa, False)\n",
    "#dividindo a area rural em classes sociais \n",
    "rendaRfaixa = pd.cut(rendaR, faixa, False)\n",
    "\n"
   ]
  },
  {
   "cell_type": "code",
   "execution_count": 44,
   "metadata": {},
   "outputs": [],
   "source": [
    "\n",
    "novo_dados1 = pd.read_csv(\"resumo2014.csv\", sep= ',')\n",
    "#tirando os null \n",
    "novo_dados1 = novo_dados1[pd.notnull(novo_dados1.UF)&pd.notnull(novo_dados1.V0227)]\n",
    "#criando o DataFrame\n",
    "novo_dados1 = pd.DataFrame(novo_dados1)\n",
    "#mudando os nomes das colunas\n",
    "novo_dados1.columns = [\"Nº\",\"UF\", \"PB\",\"COR\",\"Internet\",\"RendaperCap\", \"Area\"]\n",
    "#Criando Categorias\n",
    "novo_dados1.UF = novo_dados1.UF.astype('category')\n",
    "novo_dados1.PB = novo_dados1.PB.astype('category')\n",
    "novo_dados1.COR = novo_dados1.COR.astype('category')\n",
    "novo_dados1.Internet = novo_dados1.Internet.astype('category')\n",
    "novo_dados1.Area = novo_dados1.Area.astype('category')\n",
    "novo_dados1.RendaperCap = novo_dados1.RendaperCap.astype('float')\n",
    "#tirar o valor absurdo de 99999999 da renda per cap\n",
    "novo_dados1 = novo_dados1[novo_dados1.RendaperCap != 999999999999]\n",
    "\n",
    "#mudando rotulos categoricos\n",
    "novo_dados1.UF.cat.categories = (\"Rondonia\",\"Acre\",\"Amazonas\",\"Roraima\", \\\n",
    "\"Pará\",\"Amapá\", \"Tocantins\", \"Maranhão\", \"Piauí\", \"Ceará\",\"Rio Grande do Norte\",\"Paraíba\", \\\n",
    "\"Pernambuco\",\"Alagoas\",\"Sergipe\",\"Bahia\",\"Minas Gerais\",\"Espírito Santo\",\"Rio de Janeiro\",\\\n",
    "\"São Paulo\",\"Paraná\",\"Santa Catarina\",\"Rio Grande do Sul\",\"Mato Grosso do Sul\",\"Mato Grosso\",\"Goiás\",\"Distrito Federal\")\n",
    "novo_dados1.PB.cat.categories = (\"Sim\",\"Não\")\n",
    "novo_dados1.COR.cat.categories = (\"Sim\")\n",
    "novo_dados1.Internet.cat.categories = (\"Sim\", \"Não\")\n",
    "novo_dados1.Area.cat.categories = [\"Urbana1\",\"Urbana2\",\"Urbana3\",\"Rural1\",\"Rural2\",\"Rural3\",\"Rural4\",\"Rural5\"]\n",
    "\n",
    "#criando nova coluna de Area\n",
    "\n",
    "novo_dados1.loc[(novo_dados1.Area == \"Urbana1\") | (novo_dados1.Area == \"Urbana2\")| \\\n",
    "(novo_dados1.Area == \"Urbana3\"), \"Area_Nova\"] = \"Urbana\" \n",
    "novo_dados1.loc[(novo_dados1.Area == \"Rural1\") | (novo_dados1.Area == \"Rural2\")| \\\n",
    "(novo_dados1.Area == \"Rural3\")| (novo_dados1.Area == \"Rural4\")| (novo_dados1.Area == \"Rural5\"), \"Area_Nova\"] = \"Rural\" \n",
    "\n",
    "\n",
    "#criando nova coluna de TV\n",
    "novo_dados1.loc[(novo_dados1.PB == \"Sim\"), \"TV\"] = \"Sim\"\n",
    "novo_dados1.loc[(novo_dados1.PB == \"Não\"), \"TV\"] = \"Não\"\n",
    "novo_dados1.loc[(novo_dados1.COR == \"Sim\"), \"TV\"] = \"Sim\"\n",
    "novo_dados1.loc[(novo_dados1.COR == \"Não\"), \"TV\"] = \"Não\"\n",
    "#criando nova coluna de TV\n",
    "\"\"\"\n",
    "Classes Sociais segundo IBGE\n",
    "A --  > 20 SM\n",
    "B -- 10 a 20 SM\n",
    "C -- 4 a 10 \n",
    "D -- 2 a 4 SM\n",
    "E -- < 2SM\n",
    "\n",
    "\"\"\"\n",
    "sm = 724\n",
    "novo_dados1.loc[(novo_dados1.RendaperCap < 2*sm ), \"Classe\"] = \"E\"\n",
    "novo_dados1.loc[(novo_dados1.RendaperCap > 2*sm) & (novo_dados1.RendaperCap < 4*sm), \"Classe\"] = \"D\"\n",
    "novo_dados1.loc[(novo_dados1.RendaperCap > 4*sm) & (novo_dados1.RendaperCap < 10*sm), \"Classe\"] = \"C\"\n",
    "novo_dados1.loc[(novo_dados1.RendaperCap > 10*sm) & (novo_dados1.RendaperCap < 20*sm), \"Classe\"] = \"B\"\n",
    "novo_dados1.loc[(novo_dados1.RendaperCap > 20*sm), \"Classe\"] = \"A\"\n",
    "\n",
    "#FAIXAS\n",
    "faixa1 = range(0,5000,25)\n",
    "faixa = [0,sm*2,4*sm,10*sm,20*sm]\n",
    "#criando renda area urbana\n",
    "rendaU = novo_dados1.RendaperCap[novo_dados1.Area_Nova == \"Urbana\"]\n",
    "#criando renda area rural\n",
    "rendaR = novo_dados1.RendaperCap[novo_dados1.Area_Nova == \"Rural\"]\n",
    "#dividindo a area urbana em classes sociais \n",
    "rendaUfaixa = pd.cut(rendaU, faixa, False)\n",
    "#dividindo a area rural em classes sociais \n",
    "rendaRfaixa = pd.cut(rendaR, faixa, False)\n",
    "\n",
    "\n",
    "\n"
   ]
  }
 ],
 "metadata": {
  "kernelspec": {
   "display_name": "Python 3",
   "language": "python",
   "name": "python3"
  },
  "language_info": {
   "codemirror_mode": {
    "name": "ipython",
    "version": 3
   },
   "file_extension": ".py",
   "mimetype": "text/x-python",
   "name": "python",
   "nbconvert_exporter": "python",
   "pygments_lexer": "ipython3",
   "version": "3.6.1"
  }
 },
 "nbformat": 4,
 "nbformat_minor": 2
}
