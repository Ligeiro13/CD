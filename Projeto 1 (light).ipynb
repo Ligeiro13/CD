{
 "cells": [
  {
   "cell_type": "code",
   "execution_count": 44,
   "metadata": {},
   "outputs": [
    {
     "data": {
      "text/plain": [
       "Não    3560\n",
       "Sim     183\n",
       "Name: PB, dtype: int64"
      ]
     },
     "execution_count": 44,
     "metadata": {},
     "output_type": "execute_result"
    }
   ],
   "source": [
    "%matplotlib inline\n",
    "import pandas as pd\n",
    "import matplotlib.pyplot as plt\n",
    "import os\n",
    "\n",
    "\n",
    "novo_dados = pd.read_csv(\"resumo.csv\", sep= ',')\n",
    "#tirando os null \n",
    "novo_dados = novo_dados[pd.notnull(novo_dados.UF)&pd.notnull(novo_dados.V0227)]\n",
    "#criando o DataFrame\n",
    "novo_dados = pd.DataFrame(novo_dados)\n",
    "#mudando os nomes das colunas\n",
    "novo_dados.columns = [\"Nº\",\"UF\", \"PB\",\"COR\",\"Internet\",\"Renda per Cap\"]\n",
    "#Criando Categorias\n",
    "novo_dados.UF = novo_dados.UF.astype('category')\n",
    "novo_dados.PB = novo_dados.PB.astype('category')\n",
    "novo_dados.COR = novo_dados.COR.astype('category')\n",
    "novo_dados.Internet = novo_dados.Internet.astype('category')\n",
    "\n",
    "#mudando rotulos categoricos\n",
    "novo_dados.UF.cat.categories = (\"Rondonia\",\"Acre\",\"Amazonas\",\"Roraima\", \\\n",
    "\"Pará\",\"Amapá\", \"Tocantins\", \"Maranhão\", \"Piauí\", \"Ceará\",\"Rio Grande do Norte\",\"Paraíba\", \\\n",
    "\"Pernambuco\",\"Alagoas\",\"Sergipe\",\"Bahia\",\"Minas Gerais\",\"Espírito Santo\",\"Rio de Janeiro\",\\\n",
    "\"São Paulo\",\"Paraná\",\"Santa Catarina\",\"Rio Grande do Sul\",\"Mato Grosso do Sul\",\"Mato Grosso\",\"Goiás\",\"Distrito Federal\")\n",
    "novo_dados.PB.cat.categories = (\"Sim\",\"Não\")\n",
    "novo_dados.COR.cat.categories = (\"Sim\")\n",
    "novo_dados.Internet.cat.categories = (\"Sim\", \"Não\")\n",
    "\n",
    "#novo_dados.Internet.value_counts()\n",
    "novo_dados.PB.value_counts()\n",
    "\n"
   ]
  },
  {
   "cell_type": "code",
   "execution_count": null,
   "metadata": {
    "collapsed": true
   },
   "outputs": [],
   "source": []
  }
 ],
 "metadata": {
  "kernelspec": {
   "display_name": "Python 3",
   "language": "python",
   "name": "python3"
  },
  "language_info": {
   "codemirror_mode": {
    "name": "ipython",
    "version": 3
   },
   "file_extension": ".py",
   "mimetype": "text/x-python",
   "name": "python",
   "nbconvert_exporter": "python",
   "pygments_lexer": "ipython3",
   "version": "3.6.1"
  }
 },
 "nbformat": 4,
 "nbformat_minor": 2
}
